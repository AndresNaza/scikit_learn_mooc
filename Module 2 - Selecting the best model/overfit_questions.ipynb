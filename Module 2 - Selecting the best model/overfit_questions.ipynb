{
 "cells": [
  {
   "cell_type": "code",
   "execution_count": 1,
   "metadata": {},
   "outputs": [],
   "source": [
    "import pandas as pd\n",
    "\n",
    "blood_transfusion = pd.read_csv(\"../datasets/blood_transfusion.csv\")\n",
    "target_name = \"Class\"\n",
    "data = blood_transfusion.drop(columns=target_name)\n",
    "target = blood_transfusion[target_name]"
   ]
  },
  {
   "cell_type": "markdown",
   "metadata": {},
   "source": [
    "## Question 1 \n",
    "Select the correct answers from the following proposals."
   ]
  },
  {
   "cell_type": "code",
   "execution_count": 2,
   "metadata": {},
   "outputs": [
    {
     "data": {
      "text/plain": [
       "0        donated\n",
       "1        donated\n",
       "2        donated\n",
       "3        donated\n",
       "4    not donated\n",
       "Name: Class, dtype: object"
      ]
     },
     "execution_count": 2,
     "metadata": {},
     "output_type": "execute_result"
    }
   ],
   "source": [
    "target.head()"
   ]
  },
  {
   "cell_type": "code",
   "execution_count": 3,
   "metadata": {},
   "outputs": [
    {
     "data": {
      "text/plain": [
       "not donated    570\n",
       "donated        178\n",
       "Name: Class, dtype: int64"
      ]
     },
     "execution_count": 3,
     "metadata": {},
     "output_type": "execute_result"
    }
   ],
   "source": [
    "target.value_counts()"
   ]
  },
  {
   "cell_type": "markdown",
   "metadata": {},
   "source": [
    " b) The problem to be solved is a binary classification problem (exactly 2 possible classes)\n",
    " \n",
    " d) The proportions of the class counts are imbalanced: some classes have more than twice as many rows than others"
   ]
  },
  {
   "cell_type": "markdown",
   "metadata": {},
   "source": [
    "## Question 2 \n",
    "\n",
    "Using a sklearn.dummy.DummyClassifier and the strategy \"most_frequent\", what is the average of the accuracy scores obtained by performing a 10-fold cross-validation?"
   ]
  },
  {
   "cell_type": "code",
   "execution_count": 4,
   "metadata": {},
   "outputs": [],
   "source": [
    "from sklearn.dummy import DummyClassifier\n",
    "from sklearn.pipeline import make_pipeline\n",
    "from sklearn.model_selection import cross_validate\n",
    "from sklearn.model_selection import cross_val_score"
   ]
  },
  {
   "cell_type": "code",
   "execution_count": 5,
   "metadata": {},
   "outputs": [],
   "source": [
    "model_frequent = make_pipeline(DummyClassifier(strategy='most_frequent'))\n",
    "\n",
    "score = cross_val_score(model_frequent, data, target, cv=10)"
   ]
  },
  {
   "cell_type": "code",
   "execution_count": 6,
   "metadata": {},
   "outputs": [
    {
     "data": {
      "text/plain": [
       "0.762054054054054"
      ]
     },
     "execution_count": 6,
     "metadata": {},
     "output_type": "execute_result"
    }
   ],
   "source": [
    "score.mean()"
   ]
  },
  {
   "cell_type": "markdown",
   "metadata": {},
   "source": [
    " c) ~75% "
   ]
  },
  {
   "cell_type": "markdown",
   "metadata": {},
   "source": [
    "## Question 3\n",
    "\n",
    "Repeat the previous experiment but compute the balanced accuracy instead of the accuracy score. Pass scoring=\"balanced_accuracy\" when calling cross_validate or cross_val_score functions, the mean score is:"
   ]
  },
  {
   "cell_type": "code",
   "execution_count": 7,
   "metadata": {},
   "outputs": [],
   "source": [
    "score = cross_val_score(model_frequent, data, target, cv=10,\n",
    "                        scoring = 'balanced_accuracy')"
   ]
  },
  {
   "cell_type": "code",
   "execution_count": 8,
   "metadata": {},
   "outputs": [
    {
     "data": {
      "text/plain": [
       "0.5"
      ]
     },
     "execution_count": 8,
     "metadata": {},
     "output_type": "execute_result"
    }
   ],
   "source": [
    "score.mean()"
   ]
  },
  {
   "cell_type": "markdown",
   "metadata": {},
   "source": [
    " b) ~50% "
   ]
  },
  {
   "cell_type": "markdown",
   "metadata": {},
   "source": [
    "## Question 4 \n",
    "\n",
    "We will use a sklearn.neighbors.KNeighborsClassifier for the remainder of this quiz.\n",
    "\n",
    "Why is it relevant to add a preprocessing step to scale the data using a StandardScaler when working with a KNeighborsClassifier?"
   ]
  },
  {
   "cell_type": "markdown",
   "metadata": {},
   "source": [
    " b) k-nearest neighbors is based on computing some distances. Features need to be normalized to contribute approximately equally to the distance computation. "
   ]
  },
  {
   "cell_type": "markdown",
   "metadata": {},
   "source": [
    "## Question 5 \n",
    "\n",
    "Create a scikit-learn pipeline (using sklearn.pipeline.make_pipeline) where a StandardScaler will be used to scale the data followed by a KNeighborsClassifier. Use the default hyperparameters.\n",
    "\n",
    "Inspect the parameters of the created pipeline. What is the value of K, the number of neighbors considered when predicting with the k-nearest neighbors?"
   ]
  },
  {
   "cell_type": "code",
   "execution_count": 9,
   "metadata": {},
   "outputs": [],
   "source": [
    "# to display nice model diagram\n",
    "from sklearn import set_config\n",
    "set_config(display='diagram')"
   ]
  },
  {
   "cell_type": "code",
   "execution_count": 10,
   "metadata": {},
   "outputs": [],
   "source": [
    "from sklearn.preprocessing import StandardScaler\n",
    "from sklearn.neighbors import KNeighborsClassifier\n",
    "\n",
    "model = make_pipeline(StandardScaler(), KNeighborsClassifier())"
   ]
  },
  {
   "cell_type": "code",
   "execution_count": 11,
   "metadata": {},
   "outputs": [
    {
     "data": {
      "text/html": [
       "<style>#sk-27c7c511-fec6-459a-97c7-367e16fb77dc {color: black;background-color: white;}#sk-27c7c511-fec6-459a-97c7-367e16fb77dc pre{padding: 0;}#sk-27c7c511-fec6-459a-97c7-367e16fb77dc div.sk-toggleable {background-color: white;}#sk-27c7c511-fec6-459a-97c7-367e16fb77dc label.sk-toggleable__label {cursor: pointer;display: block;width: 100%;margin-bottom: 0;padding: 0.3em;box-sizing: border-box;text-align: center;}#sk-27c7c511-fec6-459a-97c7-367e16fb77dc label.sk-toggleable__label-arrow:before {content: \"▸\";float: left;margin-right: 0.25em;color: #696969;}#sk-27c7c511-fec6-459a-97c7-367e16fb77dc label.sk-toggleable__label-arrow:hover:before {color: black;}#sk-27c7c511-fec6-459a-97c7-367e16fb77dc div.sk-estimator:hover label.sk-toggleable__label-arrow:before {color: black;}#sk-27c7c511-fec6-459a-97c7-367e16fb77dc div.sk-toggleable__content {max-height: 0;max-width: 0;overflow: hidden;text-align: left;background-color: #f0f8ff;}#sk-27c7c511-fec6-459a-97c7-367e16fb77dc div.sk-toggleable__content pre {margin: 0.2em;color: black;border-radius: 0.25em;background-color: #f0f8ff;}#sk-27c7c511-fec6-459a-97c7-367e16fb77dc input.sk-toggleable__control:checked~div.sk-toggleable__content {max-height: 200px;max-width: 100%;overflow: auto;}#sk-27c7c511-fec6-459a-97c7-367e16fb77dc input.sk-toggleable__control:checked~label.sk-toggleable__label-arrow:before {content: \"▾\";}#sk-27c7c511-fec6-459a-97c7-367e16fb77dc div.sk-estimator input.sk-toggleable__control:checked~label.sk-toggleable__label {background-color: #d4ebff;}#sk-27c7c511-fec6-459a-97c7-367e16fb77dc div.sk-label input.sk-toggleable__control:checked~label.sk-toggleable__label {background-color: #d4ebff;}#sk-27c7c511-fec6-459a-97c7-367e16fb77dc input.sk-hidden--visually {border: 0;clip: rect(1px 1px 1px 1px);clip: rect(1px, 1px, 1px, 1px);height: 1px;margin: -1px;overflow: hidden;padding: 0;position: absolute;width: 1px;}#sk-27c7c511-fec6-459a-97c7-367e16fb77dc div.sk-estimator {font-family: monospace;background-color: #f0f8ff;border: 1px dotted black;border-radius: 0.25em;box-sizing: border-box;margin-bottom: 0.5em;}#sk-27c7c511-fec6-459a-97c7-367e16fb77dc div.sk-estimator:hover {background-color: #d4ebff;}#sk-27c7c511-fec6-459a-97c7-367e16fb77dc div.sk-parallel-item::after {content: \"\";width: 100%;border-bottom: 1px solid gray;flex-grow: 1;}#sk-27c7c511-fec6-459a-97c7-367e16fb77dc div.sk-label:hover label.sk-toggleable__label {background-color: #d4ebff;}#sk-27c7c511-fec6-459a-97c7-367e16fb77dc div.sk-serial::before {content: \"\";position: absolute;border-left: 1px solid gray;box-sizing: border-box;top: 2em;bottom: 0;left: 50%;}#sk-27c7c511-fec6-459a-97c7-367e16fb77dc div.sk-serial {display: flex;flex-direction: column;align-items: center;background-color: white;padding-right: 0.2em;padding-left: 0.2em;}#sk-27c7c511-fec6-459a-97c7-367e16fb77dc div.sk-item {z-index: 1;}#sk-27c7c511-fec6-459a-97c7-367e16fb77dc div.sk-parallel {display: flex;align-items: stretch;justify-content: center;background-color: white;}#sk-27c7c511-fec6-459a-97c7-367e16fb77dc div.sk-parallel::before {content: \"\";position: absolute;border-left: 1px solid gray;box-sizing: border-box;top: 2em;bottom: 0;left: 50%;}#sk-27c7c511-fec6-459a-97c7-367e16fb77dc div.sk-parallel-item {display: flex;flex-direction: column;position: relative;background-color: white;}#sk-27c7c511-fec6-459a-97c7-367e16fb77dc div.sk-parallel-item:first-child::after {align-self: flex-end;width: 50%;}#sk-27c7c511-fec6-459a-97c7-367e16fb77dc div.sk-parallel-item:last-child::after {align-self: flex-start;width: 50%;}#sk-27c7c511-fec6-459a-97c7-367e16fb77dc div.sk-parallel-item:only-child::after {width: 0;}#sk-27c7c511-fec6-459a-97c7-367e16fb77dc div.sk-dashed-wrapped {border: 1px dashed gray;margin: 0 0.4em 0.5em 0.4em;box-sizing: border-box;padding-bottom: 0.4em;background-color: white;position: relative;}#sk-27c7c511-fec6-459a-97c7-367e16fb77dc div.sk-label label {font-family: monospace;font-weight: bold;background-color: white;display: inline-block;line-height: 1.2em;}#sk-27c7c511-fec6-459a-97c7-367e16fb77dc div.sk-label-container {position: relative;z-index: 2;text-align: center;}#sk-27c7c511-fec6-459a-97c7-367e16fb77dc div.sk-container {/* jupyter's `normalize.less` sets `[hidden] { display: none; }` but bootstrap.min.css set `[hidden] { display: none !important; }` so we also need the `!important` here to be able to override the default hidden behavior on the sphinx rendered scikit-learn.org. See: https://github.com/scikit-learn/scikit-learn/issues/21755 */display: inline-block !important;position: relative;}#sk-27c7c511-fec6-459a-97c7-367e16fb77dc div.sk-text-repr-fallback {display: none;}</style><div id=\"sk-27c7c511-fec6-459a-97c7-367e16fb77dc\" class=\"sk-top-container\"><div class=\"sk-text-repr-fallback\"><pre>Pipeline(steps=[(&#x27;standardscaler&#x27;, StandardScaler()),\n",
       "                (&#x27;kneighborsclassifier&#x27;, KNeighborsClassifier())])</pre><b>Please rerun this cell to show the HTML repr or trust the notebook.</b></div><div class=\"sk-container\" hidden><div class=\"sk-item sk-dashed-wrapped\"><div class=\"sk-label-container\"><div class=\"sk-label sk-toggleable\"><input class=\"sk-toggleable__control sk-hidden--visually\" id=\"8669ffbe-1486-49b7-a296-0e7d7c9a8059\" type=\"checkbox\" ><label for=\"8669ffbe-1486-49b7-a296-0e7d7c9a8059\" class=\"sk-toggleable__label sk-toggleable__label-arrow\">Pipeline</label><div class=\"sk-toggleable__content\"><pre>Pipeline(steps=[(&#x27;standardscaler&#x27;, StandardScaler()),\n",
       "                (&#x27;kneighborsclassifier&#x27;, KNeighborsClassifier())])</pre></div></div></div><div class=\"sk-serial\"><div class=\"sk-item\"><div class=\"sk-estimator sk-toggleable\"><input class=\"sk-toggleable__control sk-hidden--visually\" id=\"257ea471-8306-4288-81d7-6929c2f946cd\" type=\"checkbox\" ><label for=\"257ea471-8306-4288-81d7-6929c2f946cd\" class=\"sk-toggleable__label sk-toggleable__label-arrow\">StandardScaler</label><div class=\"sk-toggleable__content\"><pre>StandardScaler()</pre></div></div></div><div class=\"sk-item\"><div class=\"sk-estimator sk-toggleable\"><input class=\"sk-toggleable__control sk-hidden--visually\" id=\"5b2f8e67-6a08-4b84-8b93-69a4126960a2\" type=\"checkbox\" ><label for=\"5b2f8e67-6a08-4b84-8b93-69a4126960a2\" class=\"sk-toggleable__label sk-toggleable__label-arrow\">KNeighborsClassifier</label><div class=\"sk-toggleable__content\"><pre>KNeighborsClassifier()</pre></div></div></div></div></div></div></div>"
      ],
      "text/plain": [
       "Pipeline(steps=[('standardscaler', StandardScaler()),\n",
       "                ('kneighborsclassifier', KNeighborsClassifier())])"
      ]
     },
     "execution_count": 11,
     "metadata": {},
     "output_type": "execute_result"
    }
   ],
   "source": [
    "model"
   ]
  },
  {
   "cell_type": "code",
   "execution_count": 12,
   "metadata": {},
   "outputs": [
    {
     "data": {
      "text/plain": [
       "{'memory': None,\n",
       " 'steps': [('standardscaler', StandardScaler()),\n",
       "  ('kneighborsclassifier', KNeighborsClassifier())],\n",
       " 'verbose': False,\n",
       " 'standardscaler': StandardScaler(),\n",
       " 'kneighborsclassifier': KNeighborsClassifier(),\n",
       " 'standardscaler__copy': True,\n",
       " 'standardscaler__with_mean': True,\n",
       " 'standardscaler__with_std': True,\n",
       " 'kneighborsclassifier__algorithm': 'auto',\n",
       " 'kneighborsclassifier__leaf_size': 30,\n",
       " 'kneighborsclassifier__metric': 'minkowski',\n",
       " 'kneighborsclassifier__metric_params': None,\n",
       " 'kneighborsclassifier__n_jobs': None,\n",
       " 'kneighborsclassifier__n_neighbors': 5,\n",
       " 'kneighborsclassifier__p': 2,\n",
       " 'kneighborsclassifier__weights': 'uniform'}"
      ]
     },
     "execution_count": 12,
     "metadata": {},
     "output_type": "execute_result"
    }
   ],
   "source": [
    "model.get_params()"
   ]
  },
  {
   "cell_type": "markdown",
   "metadata": {},
   "source": [
    "c) 5 "
   ]
  },
  {
   "cell_type": "markdown",
   "metadata": {},
   "source": [
    "## Question 6 \n",
    "\n",
    "Set n_neighbors=1 in the previous model and evaluate it using a 10-fold cross-validation. Use the balanced accuracy as a score. What can you say about this model? Compare the average of the train and test scores to argument your answer."
   ]
  },
  {
   "cell_type": "code",
   "execution_count": 13,
   "metadata": {},
   "outputs": [],
   "source": [
    "import pandas as pd\n",
    "\n",
    "model = make_pipeline(StandardScaler(), KNeighborsClassifier(n_neighbors = 1))\n",
    "\n",
    "cv_results = cross_validate(model, data, target, cv = 10, \n",
    "                            scoring = 'balanced_accuracy',\n",
    "                            return_train_score=True)\n",
    "\n",
    "cv_results = pd.DataFrame(cv_results)"
   ]
  },
  {
   "cell_type": "code",
   "execution_count": 14,
   "metadata": {},
   "outputs": [
    {
     "data": {
      "text/html": [
       "<div>\n",
       "<style scoped>\n",
       "    .dataframe tbody tr th:only-of-type {\n",
       "        vertical-align: middle;\n",
       "    }\n",
       "\n",
       "    .dataframe tbody tr th {\n",
       "        vertical-align: top;\n",
       "    }\n",
       "\n",
       "    .dataframe thead th {\n",
       "        text-align: right;\n",
       "    }\n",
       "</style>\n",
       "<table border=\"1\" class=\"dataframe\">\n",
       "  <thead>\n",
       "    <tr style=\"text-align: right;\">\n",
       "      <th></th>\n",
       "      <th>fit_time</th>\n",
       "      <th>score_time</th>\n",
       "      <th>test_score</th>\n",
       "      <th>train_score</th>\n",
       "    </tr>\n",
       "  </thead>\n",
       "  <tbody>\n",
       "    <tr>\n",
       "      <th>0</th>\n",
       "      <td>0.007291</td>\n",
       "      <td>0.005805</td>\n",
       "      <td>0.513158</td>\n",
       "      <td>0.897509</td>\n",
       "    </tr>\n",
       "    <tr>\n",
       "      <th>1</th>\n",
       "      <td>0.005129</td>\n",
       "      <td>0.005753</td>\n",
       "      <td>0.491228</td>\n",
       "      <td>0.885953</td>\n",
       "    </tr>\n",
       "    <tr>\n",
       "      <th>2</th>\n",
       "      <td>0.005005</td>\n",
       "      <td>0.005478</td>\n",
       "      <td>0.587719</td>\n",
       "      <td>0.879904</td>\n",
       "    </tr>\n",
       "    <tr>\n",
       "      <th>3</th>\n",
       "      <td>0.004948</td>\n",
       "      <td>0.005468</td>\n",
       "      <td>0.271930</td>\n",
       "      <td>0.882828</td>\n",
       "    </tr>\n",
       "    <tr>\n",
       "      <th>4</th>\n",
       "      <td>0.005090</td>\n",
       "      <td>0.005531</td>\n",
       "      <td>0.385965</td>\n",
       "      <td>0.893579</td>\n",
       "    </tr>\n",
       "    <tr>\n",
       "      <th>5</th>\n",
       "      <td>0.005055</td>\n",
       "      <td>0.005451</td>\n",
       "      <td>0.438596</td>\n",
       "      <td>0.874488</td>\n",
       "    </tr>\n",
       "    <tr>\n",
       "      <th>6</th>\n",
       "      <td>0.004746</td>\n",
       "      <td>0.006153</td>\n",
       "      <td>0.564327</td>\n",
       "      <td>0.881884</td>\n",
       "    </tr>\n",
       "    <tr>\n",
       "      <th>7</th>\n",
       "      <td>0.004527</td>\n",
       "      <td>0.005038</td>\n",
       "      <td>0.662281</td>\n",
       "      <td>0.867434</td>\n",
       "    </tr>\n",
       "    <tr>\n",
       "      <th>8</th>\n",
       "      <td>0.004136</td>\n",
       "      <td>0.006473</td>\n",
       "      <td>0.421569</td>\n",
       "      <td>0.878501</td>\n",
       "    </tr>\n",
       "    <tr>\n",
       "      <th>9</th>\n",
       "      <td>0.004228</td>\n",
       "      <td>0.004678</td>\n",
       "      <td>0.503096</td>\n",
       "      <td>0.883440</td>\n",
       "    </tr>\n",
       "  </tbody>\n",
       "</table>\n",
       "</div>"
      ],
      "text/plain": [
       "   fit_time  score_time  test_score  train_score\n",
       "0  0.007291    0.005805    0.513158     0.897509\n",
       "1  0.005129    0.005753    0.491228     0.885953\n",
       "2  0.005005    0.005478    0.587719     0.879904\n",
       "3  0.004948    0.005468    0.271930     0.882828\n",
       "4  0.005090    0.005531    0.385965     0.893579\n",
       "5  0.005055    0.005451    0.438596     0.874488\n",
       "6  0.004746    0.006153    0.564327     0.881884\n",
       "7  0.004527    0.005038    0.662281     0.867434\n",
       "8  0.004136    0.006473    0.421569     0.878501\n",
       "9  0.004228    0.004678    0.503096     0.883440"
      ]
     },
     "execution_count": 14,
     "metadata": {},
     "output_type": "execute_result"
    }
   ],
   "source": [
    "cv_results"
   ]
  },
  {
   "cell_type": "code",
   "execution_count": 15,
   "metadata": {},
   "outputs": [
    {
     "data": {
      "text/plain": [
       "<AxesSubplot:>"
      ]
     },
     "execution_count": 15,
     "metadata": {},
     "output_type": "execute_result"
    },
    {
     "data": {
      "image/png": "[encoded data removed]",
      "text/plain": [
       "<Figure size 432x288 with 1 Axes>"
      ]
     },
     "metadata": {
      "needs_background": "light"
     },
     "output_type": "display_data"
    }
   ],
   "source": [
    "cv_results[['test_score', 'train_score']].plot()"
   ]
  },
  {
   "cell_type": "markdown",
   "metadata": {},
   "source": [
    "c) The model clearly overfits "
   ]
  },
  {
   "cell_type": "markdown",
   "metadata": {},
   "source": [
    "## Question 7 \n",
    "\n",
    "We will now study the effect of the parameter n_neighbors on the train and test score using a validation curve. You can use the following parameter range:\n",
    "\n",
    "param_range = [1, 2, 5, 10, 20, 50, 100, 200, 500]\n",
    "\n",
    "Also, use a 5-fold cross-validation and compute the balanced accuracy score instead of the default accuracy score (check the scoring parameter). Finally, plot the average train and test scores for the different value of the hyperparameter. We recall that the name of the parameter can be found using model.get_params().\n",
    "\n",
    "Select the true affirmations stated below:"
   ]
  },
  {
   "cell_type": "code",
   "execution_count": 16,
   "metadata": {},
   "outputs": [
    {
     "data": {
      "text/plain": [
       "Text(0.5, 1.0, 'Validation curve')"
      ]
     },
     "execution_count": 16,
     "metadata": {},
     "output_type": "execute_result"
    },
    {
     "data": {
      "image/png": "[encoded data removed]",
      "text/plain": [
       "<Figure size 432x288 with 1 Axes>"
      ]
     },
     "metadata": {
      "needs_background": "light"
     },
     "output_type": "display_data"
    }
   ],
   "source": [
    "import matplotlib.pyplot as plt\n",
    "import numpy as np\n",
    "from sklearn.model_selection import validation_curve\n",
    "\n",
    "param_range = [1, 2, 5, 10, 20, 50, 100, 200, 500]\n",
    "\n",
    "train_scores, test_scores = validation_curve(model, data, target, \n",
    "                                             param_name = 'kneighborsclassifier__n_neighbors',\n",
    "                                             param_range = param_range,\n",
    "                                             cv = 5,\n",
    "                                             scoring = 'balanced_accuracy')\n",
    "\n",
    "\n",
    "plt.errorbar(param_range,\n",
    "             train_scores.mean(axis=1),\n",
    "             train_scores.std(axis=1),\n",
    "             label = 'Train scores'\n",
    "            )\n",
    "\n",
    "plt.errorbar(param_range,\n",
    "             test_scores.mean(axis=1),\n",
    "             test_scores.std(axis=1),\n",
    "             label = 'Test scores')\n",
    "\n",
    "plt.legend()\n",
    "plt.xlabel('N neighbors')\n",
    "plt.ylabel('Balanced accuracy')\n",
    "plt.title('Validation curve')\n"
   ]
  },
  {
   "cell_type": "code",
   "execution_count": 17,
   "metadata": {},
   "outputs": [
    {
     "data": {
      "text/html": [
       "<div>\n",
       "<style scoped>\n",
       "    .dataframe tbody tr th:only-of-type {\n",
       "        vertical-align: middle;\n",
       "    }\n",
       "\n",
       "    .dataframe tbody tr th {\n",
       "        vertical-align: top;\n",
       "    }\n",
       "\n",
       "    .dataframe thead th {\n",
       "        text-align: right;\n",
       "    }\n",
       "</style>\n",
       "<table border=\"1\" class=\"dataframe\">\n",
       "  <thead>\n",
       "    <tr style=\"text-align: right;\">\n",
       "      <th></th>\n",
       "      <th>Train score</th>\n",
       "      <th>Test score</th>\n",
       "    </tr>\n",
       "  </thead>\n",
       "  <tbody>\n",
       "    <tr>\n",
       "      <th>1</th>\n",
       "      <td>0.889903</td>\n",
       "      <td>0.489612</td>\n",
       "    </tr>\n",
       "    <tr>\n",
       "      <th>2</th>\n",
       "      <td>0.841787</td>\n",
       "      <td>0.500664</td>\n",
       "    </tr>\n",
       "    <tr>\n",
       "      <th>5</th>\n",
       "      <td>0.710427</td>\n",
       "      <td>0.514641</td>\n",
       "    </tr>\n",
       "    <tr>\n",
       "      <th>10</th>\n",
       "      <td>0.697481</td>\n",
       "      <td>0.554286</td>\n",
       "    </tr>\n",
       "    <tr>\n",
       "      <th>20</th>\n",
       "      <td>0.678223</td>\n",
       "      <td>0.600789</td>\n",
       "    </tr>\n",
       "    <tr>\n",
       "      <th>50</th>\n",
       "      <td>0.624069</td>\n",
       "      <td>0.568363</td>\n",
       "    </tr>\n",
       "    <tr>\n",
       "      <th>100</th>\n",
       "      <td>0.535553</td>\n",
       "      <td>0.554369</td>\n",
       "    </tr>\n",
       "    <tr>\n",
       "      <th>200</th>\n",
       "      <td>0.500000</td>\n",
       "      <td>0.500000</td>\n",
       "    </tr>\n",
       "    <tr>\n",
       "      <th>500</th>\n",
       "      <td>0.500000</td>\n",
       "      <td>0.500000</td>\n",
       "    </tr>\n",
       "  </tbody>\n",
       "</table>\n",
       "</div>"
      ],
      "text/plain": [
       "     Train score  Test score\n",
       "1       0.889903    0.489612\n",
       "2       0.841787    0.500664\n",
       "5       0.710427    0.514641\n",
       "10      0.697481    0.554286\n",
       "20      0.678223    0.600789\n",
       "50      0.624069    0.568363\n",
       "100     0.535553    0.554369\n",
       "200     0.500000    0.500000\n",
       "500     0.500000    0.500000"
      ]
     },
     "execution_count": 17,
     "metadata": {},
     "output_type": "execute_result"
    }
   ],
   "source": [
    "pd.concat([\n",
    "           pd.DataFrame(train_scores.mean(axis=1),param_range, columns=['Train score']),\n",
    "           pd.DataFrame(test_scores.mean(axis=1),param_range, columns = ['Test score'])\n",
    "          ], axis=1)"
   ]
  },
  {
   "cell_type": "markdown",
   "metadata": {},
   "source": [
    "c) The model underfits for a range of n_neighbors values between 100 to 500 \n",
    "\n",
    "a) The model overfits for a range of n_neighbors values between 1 to 10 a) The model overfits for a range of <code>n_neighbors</code> values between 1 to 10 \n",
    " \n",
    "b) The model best generalizes for a range of n_neighbors values between 10 to 100 "
   ]
  },
  {
   "cell_type": "code",
   "execution_count": null,
   "metadata": {},
   "outputs": [],
   "source": []
  }
 ],
 "metadata": {
  "kernelspec": {
   "display_name": "Python 3 (ipykernel)",
   "language": "python",
   "name": "python3"
  },
  "language_info": {
   "codemirror_mode": {
    "name": "ipython",
    "version": 3
   },
   "file_extension": ".py",
   "mimetype": "text/x-python",
   "name": "python",
   "nbconvert_exporter": "python",
   "pygments_lexer": "ipython3",
   "version": "3.9.10"
  }
 },
 "nbformat": 4,
 "nbformat_minor": 4
}

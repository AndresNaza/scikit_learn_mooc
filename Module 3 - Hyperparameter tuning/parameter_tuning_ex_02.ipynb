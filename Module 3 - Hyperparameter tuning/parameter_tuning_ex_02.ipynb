{
 "cells": [
  {
   "cell_type": "markdown",
   "id": "c3eae820",
   "metadata": {},
   "source": [
    "# 📝 Exercise M3.01\n",
    "\n",
    "The goal is to write an exhaustive search to find the best parameters\n",
    "combination maximizing the model generalization performance.\n",
    "\n",
    "Here we use a small subset of the Adult Census dataset to make the code\n",
    "faster to execute. Once your code works on the small subset, try to\n",
    "change `train_size` to a larger value (e.g. 0.8 for 80% instead of\n",
    "20%)."
   ]
  },
  {
   "cell_type": "code",
   "execution_count": 1,
   "id": "73701292",
   "metadata": {},
   "outputs": [],
   "source": [
    "import pandas as pd\n",
    "\n",
    "from sklearn.model_selection import train_test_split\n",
    "\n",
    "adult_census = pd.read_csv(\"../datasets/adult-census.csv\")\n",
    "\n",
    "target_name = \"class\"\n",
    "target = adult_census[target_name]\n",
    "data = adult_census.drop(columns=[target_name, \"education-num\"])\n",
    "\n",
    "data_train, data_test, target_train, target_test = train_test_split(\n",
    "    data, target, train_size=0.2, random_state=42)"
   ]
  },
  {
   "cell_type": "code",
   "execution_count": 2,
   "id": "cc7628e9",
   "metadata": {},
   "outputs": [],
   "source": [
    "from sklearn.compose import ColumnTransformer\n",
    "from sklearn.compose import make_column_selector as selector\n",
    "from sklearn.preprocessing import OrdinalEncoder\n",
    "\n",
    "categorical_preprocessor = OrdinalEncoder(handle_unknown=\"use_encoded_value\",\n",
    "                                          unknown_value=-1)\n",
    "preprocessor = ColumnTransformer(\n",
    "    [('cat_preprocessor', categorical_preprocessor,\n",
    "      selector(dtype_include=object))],\n",
    "    remainder='passthrough', sparse_threshold=0)\n",
    "\n",
    "from sklearn.ensemble import HistGradientBoostingClassifier\n",
    "from sklearn.pipeline import Pipeline\n",
    "\n",
    "model = Pipeline([\n",
    "    (\"preprocessor\", preprocessor),\n",
    "    (\"classifier\", HistGradientBoostingClassifier(random_state=42))\n",
    "])"
   ]
  },
  {
   "cell_type": "markdown",
   "id": "0ebeb549",
   "metadata": {},
   "source": [
    "\n",
    "Use the previously defined model (called `model`) and using two nested `for`\n",
    "loops, make a search of the best combinations of the `learning_rate` and\n",
    "`max_leaf_nodes` parameters. In this regard, you will need to train and test\n",
    "the model by setting the parameters. The evaluation of the model should be\n",
    "performed using `cross_val_score` on the training set. We will use the\n",
    "following parameters search:\n",
    "- `learning_rate` for the values 0.01, 0.1, 1 and 10. This parameter controls\n",
    "  the ability of a new tree to correct the error of the previous sequence of\n",
    "  trees\n",
    "- `max_leaf_nodes` for the values 3, 10, 30. This parameter controls the\n",
    "  depth of each tree."
   ]
  },
  {
   "cell_type": "code",
   "execution_count": 3,
   "id": "f365b5a2",
   "metadata": {},
   "outputs": [
    {
     "data": {
      "text/plain": [
       "{'memory': None,\n",
       " 'steps': [('preprocessor',\n",
       "   ColumnTransformer(remainder='passthrough', sparse_threshold=0,\n",
       "                     transformers=[('cat_preprocessor',\n",
       "                                    OrdinalEncoder(handle_unknown='use_encoded_value',\n",
       "                                                   unknown_value=-1),\n",
       "                                    <sklearn.compose._column_transformer.make_column_selector object at 0x7f88d4310520>)])),\n",
       "  ('classifier', HistGradientBoostingClassifier(random_state=42))],\n",
       " 'verbose': False,\n",
       " 'preprocessor': ColumnTransformer(remainder='passthrough', sparse_threshold=0,\n",
       "                   transformers=[('cat_preprocessor',\n",
       "                                  OrdinalEncoder(handle_unknown='use_encoded_value',\n",
       "                                                 unknown_value=-1),\n",
       "                                  <sklearn.compose._column_transformer.make_column_selector object at 0x7f88d4310520>)]),\n",
       " 'classifier': HistGradientBoostingClassifier(random_state=42),\n",
       " 'preprocessor__n_jobs': None,\n",
       " 'preprocessor__remainder': 'passthrough',\n",
       " 'preprocessor__sparse_threshold': 0,\n",
       " 'preprocessor__transformer_weights': None,\n",
       " 'preprocessor__transformers': [('cat_preprocessor',\n",
       "   OrdinalEncoder(handle_unknown='use_encoded_value', unknown_value=-1),\n",
       "   <sklearn.compose._column_transformer.make_column_selector at 0x7f88d4310520>)],\n",
       " 'preprocessor__verbose': False,\n",
       " 'preprocessor__verbose_feature_names_out': True,\n",
       " 'preprocessor__cat_preprocessor': OrdinalEncoder(handle_unknown='use_encoded_value', unknown_value=-1),\n",
       " 'preprocessor__cat_preprocessor__categories': 'auto',\n",
       " 'preprocessor__cat_preprocessor__dtype': numpy.float64,\n",
       " 'preprocessor__cat_preprocessor__handle_unknown': 'use_encoded_value',\n",
       " 'preprocessor__cat_preprocessor__unknown_value': -1,\n",
       " 'classifier__categorical_features': None,\n",
       " 'classifier__early_stopping': 'auto',\n",
       " 'classifier__l2_regularization': 0.0,\n",
       " 'classifier__learning_rate': 0.1,\n",
       " 'classifier__loss': 'auto',\n",
       " 'classifier__max_bins': 255,\n",
       " 'classifier__max_depth': None,\n",
       " 'classifier__max_iter': 100,\n",
       " 'classifier__max_leaf_nodes': 31,\n",
       " 'classifier__min_samples_leaf': 20,\n",
       " 'classifier__monotonic_cst': None,\n",
       " 'classifier__n_iter_no_change': 10,\n",
       " 'classifier__random_state': 42,\n",
       " 'classifier__scoring': 'loss',\n",
       " 'classifier__tol': 1e-07,\n",
       " 'classifier__validation_fraction': 0.1,\n",
       " 'classifier__verbose': 0,\n",
       " 'classifier__warm_start': False}"
      ]
     },
     "execution_count": 3,
     "metadata": {},
     "output_type": "execute_result"
    }
   ],
   "source": [
    "model.get_params()"
   ]
  },
  {
   "cell_type": "code",
   "execution_count": 4,
   "id": "b9af1301",
   "metadata": {},
   "outputs": [
    {
     "name": "stdout",
     "output_type": "stream",
     "text": [
      "Evaluating model with learning rate 0.010 and max leaf nodes 3... score: 0.789\n",
      "Found new best model with score 0.789!\n",
      "Evaluating model with learning rate 0.010 and max leaf nodes 10... score: 0.813\n",
      "Found new best model with score 0.813!\n",
      "Evaluating model with learning rate 0.010 and max leaf nodes 30... score: 0.842\n",
      "Found new best model with score 0.842!\n",
      "Evaluating model with learning rate 0.100 and max leaf nodes 3... score: 0.847\n",
      "Found new best model with score 0.847!\n",
      "Evaluating model with learning rate 0.100 and max leaf nodes 10... score: 0.859\n",
      "Found new best model with score 0.859!\n",
      "Evaluating model with learning rate 0.100 and max leaf nodes 30... score: 0.857\n",
      "Evaluating model with learning rate 1.000 and max leaf nodes 3... score: 0.852\n",
      "Evaluating model with learning rate 1.000 and max leaf nodes 10... score: 0.833\n",
      "Evaluating model with learning rate 1.000 and max leaf nodes 30... score: 0.828\n",
      "Evaluating model with learning rate 10.000 and max leaf nodes 3... score: 0.288\n",
      "Evaluating model with learning rate 10.000 and max leaf nodes 10... score: 0.480\n",
      "Evaluating model with learning rate 10.000 and max leaf nodes 30... score: 0.639\n",
      "The best accuracy obtained is 0.859\n",
      "The best parameters found are:\n",
      " {'learning-rate': 0.1, 'max leaf nodes': 10}\n"
     ]
    }
   ],
   "source": [
    "from sklearn.model_selection import cross_val_score\n",
    "\n",
    "learning_rate = [0.01, 0.1, 1, 10]\n",
    "max_leaf_nodes = [3, 10, 30]\n",
    "\n",
    "best_score = 0\n",
    "best_params = {}\n",
    "for lr in learning_rate:\n",
    "    for mln in max_leaf_nodes:\n",
    "        print(f\"Evaluating model with learning rate {lr:.3f}\"\n",
    "              f\" and max leaf nodes {mln}... \", end=\"\")\n",
    "        model.set_params(\n",
    "            classifier__learning_rate=lr,\n",
    "            classifier__max_leaf_nodes=mln\n",
    "        )\n",
    "        scores = cross_val_score(model, data_train, target_train, cv=2)\n",
    "        mean_score = scores.mean()\n",
    "        print(f\"score: {mean_score:.3f}\")\n",
    "        if mean_score > best_score:\n",
    "            best_score = mean_score\n",
    "            best_params = {'learning-rate': lr, 'max leaf nodes': mln}\n",
    "            print(f\"Found new best model with score {best_score:.3f}!\")\n",
    "\n",
    "print(f\"The best accuracy obtained is {best_score:.3f}\")\n",
    "print(f\"The best parameters found are:\\n {best_params}\")"
   ]
  },
  {
   "cell_type": "markdown",
   "id": "689394f8",
   "metadata": {},
   "source": [
    "\n",
    "Now use the test set to score the model using the best parameters\n",
    "that we found using cross-validation in the training set."
   ]
  },
  {
   "cell_type": "code",
   "execution_count": 5,
   "id": "41ed1052",
   "metadata": {},
   "outputs": [
    {
     "name": "stdout",
     "output_type": "stream",
     "text": [
      "Test score after the parameter tuning: 0.870\n"
     ]
    }
   ],
   "source": [
    "best_lr = best_params['learning-rate']\n",
    "best_mln = best_params['max leaf nodes']\n",
    "\n",
    "model.set_params(classifier__learning_rate=best_lr,\n",
    "                 classifier__max_leaf_nodes=best_mln)\n",
    "model.fit(data_train, target_train)\n",
    "test_score = model.score(data_test, target_test)\n",
    "\n",
    "print(f\"Test score after the parameter tuning: {test_score:.3f}\")"
   ]
  },
  {
   "cell_type": "code",
   "execution_count": null,
   "id": "08c0c28d",
   "metadata": {},
   "outputs": [],
   "source": []
  }
 ],
 "metadata": {
  "jupytext": {
   "encoding": "# -*- coding: utf-8 -*-",
   "main_language": "python"
  },
  "kernelspec": {
   "display_name": "Python 3 (ipykernel)",
   "language": "python",
   "name": "python3"
  },
  "language_info": {
   "codemirror_mode": {
    "name": "ipython",
    "version": 3
   },
   "file_extension": ".py",
   "mimetype": "text/x-python",
   "name": "python",
   "nbconvert_exporter": "python",
   "pygments_lexer": "ipython3",
   "version": "3.9.10"
  },
  "nbreset": "https://raw.githubusercontent.com/INRIA/scikit-learn-mooc/main/notebooks/parameter_tuning_ex_02.ipynb"
 },
 "nbformat": 4,
 "nbformat_minor": 5
}
